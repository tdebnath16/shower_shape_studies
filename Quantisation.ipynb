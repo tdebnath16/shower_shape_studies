{
 "cells": [
  {
   "cell_type": "code",
   "execution_count": 1,
   "id": "c85cdaa5",
   "metadata": {},
   "outputs": [],
   "source": [
    "import numpy as np\n",
    "import pandas as pd\n",
    "import matplotlib.pyplot as plt\n",
    "import uproot\n",
    "import awkward as ak\n",
    "import mplhep as hep\n",
    "import os"
   ]
  },
  {
   "cell_type": "code",
   "execution_count": 3,
   "id": "74a0cc07",
   "metadata": {},
   "outputs": [],
   "source": [
    "import xgboost as xgb\n",
    "from sklearn.model_selection import train_test_split\n",
    "from sklearn.metrics import accuracy_score, roc_auc_score, roc_curve, auc\n",
    "from  sklearn.preprocessing import label_binarize\n",
    "import shap"
   ]
  },
  {
   "cell_type": "code",
   "execution_count": 4,
   "id": "5cf13f6f",
   "metadata": {},
   "outputs": [],
   "source": [
    "os.environ[\"OMP_NUM_THREADS\"] = \"20\"\n",
    "os.environ[\"MKL_NUM_THREADS\"] = \"20\"\n",
    "plots_dir = \"plots\""
   ]
  },
  {
   "cell_type": "code",
   "execution_count": 5,
   "id": "ab8cac3a",
   "metadata": {},
   "outputs": [],
   "source": [
    "# File paths for signal and background root files: \n",
    "photon_PU0 = \"/data/data.polcms/cms/debnath/CMSSW_14_0_0_pre1/src/shower_shape_studies/photons_0PU_bc_stc_hadd.root\"\n",
    "photon_PU200_gen = \"/data/data.polcms/cms/debnath/CMSSW_14_0_0_pre1/src/shower_shape_studies/gen_filtered.h5\"\n",
    "photon_PU200_cl3d = \"/data/data.polcms/cms/debnath/CMSSW_14_0_0_pre1/src/shower_shape_studies/cl3d_filtered.h5\"\n",
    "neutrino_PU200_cl3d = \"/data/data.polcms/cms/debnath/CMSSW_14_0_0_pre1/src/shower_shape_studies/cl3d_filtered_neutrino.h5\"\n",
    "neutrino_PU200_gen = \"/data/data.polcms/cms/debnath/CMSSW_14_0_0_pre1/src/shower_shape_studies/gen_filtered_neutrino.h5\""
   ]
  },
  {
   "cell_type": "code",
   "execution_count": 6,
   "id": "5e0ea473",
   "metadata": {},
   "outputs": [],
   "source": [
    "signal_file = uproot.open(photon_PU0)\n",
    "signal_folder = \"FloatingpointMixedbcstcrealsig4DummyHistomaxxydr015GenmatchGenclustersntuple\"\n",
    "#bg_folder = \"l1tHGCalTriggerNtuplizer\"\n",
    "tree_name = \"HGCalTriggerNtuple\"\n",
    "signal_tree_path = f\"{signal_folder}/{tree_name}\"\n",
    "\n",
    "# Access the signal tree in ROOT (uproot)\n",
    "signal_tree = signal_file[signal_tree_path]"
   ]
  },
  {
   "cell_type": "code",
   "execution_count": 7,
   "id": "e891e196",
   "metadata": {},
   "outputs": [],
   "source": [
    "def delta_r(eta1, phi1, eta2, phi2):\n",
    "    delta_eta = eta1 - eta2\n",
    "    delta_phi = np.abs(phi1 - phi2)\n",
    "    delta_phi = np.where(delta_phi > np.pi, 2 * np.pi - delta_phi, delta_phi)  # Adjust phi to be within [-pi, pi]\n",
    "    return np.sqrt(delta_eta**2 + delta_phi**2)"
   ]
  },
  {
   "cell_type": "code",
   "execution_count": 8,
   "id": "22e2844e",
   "metadata": {},
   "outputs": [],
   "source": [
    "def filter_by_delta_r(df, delta_r_threshold=0.05):\n",
    "    \"\"\"Filter DataFrame to keep only the highest-energy match per event within the delta R threshold.\"\"\"\n",
    "    required_columns = ['cl3d_eta', 'cl3d_phi', 'genpart_exeta', 'genpart_exphi', 'cl3d_energy', 'event']\n",
    "\n",
    "    if not all(col in df.columns for col in required_columns):\n",
    "        raise ValueError(f\"DataFrame must contain the following columns: {required_columns}\")\n",
    "\n",
    "    df = df.copy()  # Avoid modifying original DataFrame\n",
    "    # Filter to keep only clusters with cl3d_energy > 0\n",
    "    df = df[df['cl3d_ienergy'] > 0]\n",
    "    # Compute delta_r\n",
    "    df['delta_r'] = delta_r(df['cl3d_eta'], df['cl3d_phi'], df['genpart_exeta'], df['genpart_exphi'])\n",
    "    # Filter based on delta_r threshold\n",
    "    df_filtered = df[df['delta_r'] < delta_r_threshold]\n",
    "    # Sort by event_id, cl3d_energy (descending), delta_r (ascending)\n",
    "    df_sorted = df_filtered.sort_values(by=['event', 'cl3d_energy', 'delta_r'], ascending=[True, False, True])\n",
    "    # Keep only the first occurrence per event_id\n",
    "    df_best_match = df_sorted.groupby('event').first().reset_index()\n",
    "    return df_best_match"
   ]
  },
  {
   "cell_type": "code",
   "execution_count": 10,
   "id": "cd99340f",
   "metadata": {},
   "outputs": [],
   "source": [
    "# Function to load and filter the tree data (for HDF file)\n",
    "def load_and_filter_hdf(df_gen_path, df_cl3d_path):\n",
    "    if df_gen_path == 'None':\n",
    "        df_cl3d = pd.read_hdf(df_cl3d_path)\n",
    "        return df_cl3d \n",
    " \n",
    "    else:\n",
    "        df_gen = pd.read_hdf(df_gen_path)\n",
    "        df_cl3d = pd.read_hdf(df_cl3d_path)\n",
    "        merged_df = pd.merge(\n",
    "            df_gen,\n",
    "            df_cl3d,\n",
    "            on=\"event\",\n",
    "            how=\"inner\",  # Keep only rows where the event ID exists in both\n",
    "            suffixes=('_gen', '_cl3d')  # Differentiate common column names\n",
    "        )\n",
    "        return merged_df"
   ]
  },
  {
   "cell_type": "code",
   "execution_count": 30,
   "id": "341e3db4",
   "metadata": {},
   "outputs": [],
   "source": [
    "def plot_histograms(df_photon_pu200, df_neutrino_pu200, variables, num_bins=40, int_num_bins=10, cl3d_pt_range=(20, 30), figsize=(8, 4)):\n",
    "    df_photon_pu200_filtered = df_photon_pu200[(df_photon_pu200['cl3d_pt'] >= cl3d_pt_range[0]) & (df_photon_pu200['cl3d_pt'] <= cl3d_pt_range[1])]\n",
    "    df_neutrino_pu200_filtered = df_neutrino_pu200[(df_neutrino_pu200['cl3d_pt'] >= cl3d_pt_range[0]) & (df_neutrino_pu200['cl3d_pt'] <= cl3d_pt_range[1])]\n",
    "    for var in variables:\n",
    "        plt.figure(figsize=figsize)\n",
    "        if df_photon_pu200_filtered[var].dtype in ['int64', 'int32']:\n",
    "            min_value = min(\n",
    "                df_photon_pu200_filtered[var].min(),\n",
    "                df_neutrino_pu200_filtered[var].min()\n",
    "            )\n",
    "            max_value = max(\n",
    "                df_photon_pu200_filtered[var].max(),\n",
    "                df_neutrino_pu200_filtered[var].max()\n",
    "            )\n",
    "            bin_edges = np.arange(min_value - 0.5, max_value + 1.5, 1)\n",
    "        else:\n",
    "            min_value = min(\n",
    "                df_photon_pu200_filtered[var].min(),\n",
    "                df_neutrino_pu200_filtered[var].min()\n",
    "            )\n",
    "            max_value = max(\n",
    "                df_photon_pu200_filtered[var].max(),\n",
    "                df_neutrino_pu200_filtered[var].max()\n",
    "            )\n",
    "            bin_width = (max_value - min_value) / num_bins\n",
    "            bin_edges = np.arange(min_value - bin_width / 2, max_value + bin_width / 2, bin_width)\n",
    "        plt.hist(df_photon_pu200_filtered[var], bins=bin_edges, color='b', histtype='step', linewidth=1.5, label='Photon (200 PU)', density = True)\n",
    "        plt.hist(df_neutrino_pu200_filtered[var], bins=bin_edges, color='r', histtype='step', linewidth=1.5, label='Neutrino (200 PU)', density = True)\n",
    "        plt.title(f\"{var} Histogram (cl3d_pt between {cl3d_pt_range[0]} and {cl3d_pt_range[1]} GeV)\")\n",
    "        plt.xlabel(var)\n",
    "        plt.ylabel('Normalized Frequency')\n",
    "        plt.legend()\n",
    "        plt.tight_layout()\n",
    "        filename = os.path.join(plots_dir,f\"{var}_histogram_cl3d_pt_{cl3d_pt_range[0]}_{cl3d_pt_range[1]}.png\")\n",
    "        plt.savefig(filename, dpi=300)\n",
    "        print(f\"Saved: {filename}\")\n",
    "        plt.show()\n",
    "        plt.close()"
   ]
  },
  {
   "cell_type": "code",
   "execution_count": 35,
   "id": "5d5d5c88",
   "metadata": {},
   "outputs": [],
   "source": [
    "def calculate_partial_auc(y_true, y_pred_probs, tpr_min, tpr_max):\n",
    "    fpr, tpr, thresholds = roc_curve(y_true, y_pred_probs)\n",
    "    valid_idx = (tpr >= tpr_min) & (tpr <= tpr_max)\n",
    "    partial_auc = auc(fpr[valid_idx], tpr[valid_idx])\n",
    "    return partial_auc\n",
    "\n",
    "def plot_roc_curve(y_true, y_pred_probs, threshold):\n",
    "    fpr, tpr, thresholds = roc_curve(y_true, y_pred_probs)\n",
    "    plt.figure(figsize=(8, 6))\n",
    "    plt.plot(fpr, tpr, color='b', label='ROC curve (AUC = {:.2f})'.format(auc(fpr, tpr)))\n",
    "    valid_idx = tpr > threshold\n",
    "    plt.fill_between(fpr[valid_idx], tpr[valid_idx], color='orange', alpha=0.3, label=f'Signal efficiency > {threshold}')\n",
    "    plt.plot([0, 1], [0, 1], linestyle='--', color='gray')  # Diagonal line (no discrimination)\n",
    "    plt.xlabel('False Positive Rate (FPR)')\n",
    "    plt.ylabel('True Positive Rate (TPR)')\n",
    "    plt.title('ROC Curve with Highlighted Region')\n",
    "    plt.legend(loc='lower right')\n",
    "    plt.grid(True)\n",
    "    plt.show()"
   ]
  },
  {
   "cell_type": "code",
   "execution_count": 16,
   "id": "25ca515a",
   "metadata": {},
   "outputs": [],
   "source": [
    "photonPU200_df = load_and_filter_hdf(photon_PU200_gen, photon_PU200_cl3d)"
   ]
  },
  {
   "cell_type": "code",
   "execution_count": 20,
   "id": "4e48abcb",
   "metadata": {},
   "outputs": [],
   "source": [
    "neutrinoPU200_df = load_and_filter_hdf('None', neutrino_PU200_cl3d)\n",
    "neutrinoPU200_df_20GeV = neutrinoPU200_df[neutrinoPU200_df['cl3d_pt'] > 20]"
   ]
  },
  {
   "cell_type": "code",
   "execution_count": 18,
   "id": "deafe891",
   "metadata": {},
   "outputs": [],
   "source": [
    "photonPU200_df_filtered = filter_by_delta_r(photonPU200_df)"
   ]
  },
  {
   "cell_type": "code",
   "execution_count": 21,
   "id": "c2dd934a",
   "metadata": {},
   "outputs": [],
   "source": [
    "# Get the common columns between signal and background DataFrames\n",
    "common_columns = photonPU200_df_filtered.columns.intersection(neutrinoPU200_df_20GeV.columns)\n",
    "\n",
    "# Keep only the common columns in both DataFrames\n",
    "neutrinoPU200_df_final = neutrinoPU200_df_20GeV[common_columns]\n",
    "photonPU200_df_final = photonPU200_df_filtered[common_columns]"
   ]
  },
  {
   "cell_type": "code",
   "execution_count": 22,
   "id": "fd2f852f",
   "metadata": {},
   "outputs": [
    {
     "name": "stderr",
     "output_type": "stream",
     "text": [
      "/tmp/ipykernel_289038/900917616.py:3: SettingWithCopyWarning: \n",
      "A value is trying to be set on a copy of a slice from a DataFrame.\n",
      "Try using .loc[row_indexer,col_indexer] = value instead\n",
      "\n",
      "See the caveats in the documentation: https://pandas.pydata.org/pandas-docs/stable/user_guide/indexing.html#returning-a-view-versus-a-copy\n",
      "  photonPU200_df_final['label'] = 1    # Photon signal with PU=200\n"
     ]
    }
   ],
   "source": [
    "# Assign class labels\n",
    "neutrinoPU200_df_final['label'] = 0  # Neutrino background\n",
    "photonPU200_df_final['label'] = 1    # Photon signal with PU=200\n",
    "\n",
    "# Combine datasets\n",
    "df_combined = pd.concat([neutrinoPU200_df_final, photonPU200_df_final], ignore_index=True)"
   ]
  },
  {
   "cell_type": "code",
   "execution_count": 23,
   "id": "0d4ceb70",
   "metadata": {},
   "outputs": [],
   "source": [
    "columns_for_training = [\n",
    "    'cl3d_showerlength', 'cl3d_coreshowerlength', 'cl3d_firstlayer', 'cl3d_maxlayer',\n",
    "    'cl3d_seetot', 'cl3d_seemax', 'cl3d_spptot', 'cl3d_sppmax', 'cl3d_szz',\n",
    "    'cl3d_srrtot', 'cl3d_srrmax', 'cl3d_srrmean', 'cl3d_varrr', 'cl3d_varzz',\n",
    "    'cl3d_varee', 'cl3d_varpp', 'cl3d_emaxe', 'cl3d_meanz', \n",
    "    'cl3d_layer10', 'cl3d_layer50', 'cl3d_layer90', 'cl3d_first1layers',\n",
    "    'cl3d_first3layers', 'cl3d_first5layers', 'cl3d_firstHcal1layers',\n",
    "    'cl3d_firstHcal3layers', 'cl3d_firstHcal5layers', 'cl3d_last1layers',\n",
    "    'cl3d_last3layers', 'cl3d_last5layers', 'cl3d_emax1layers', 'cl3d_emax3layers'\n",
    "]"
   ]
  },
  {
   "cell_type": "code",
   "execution_count": 24,
   "id": "97fd5053",
   "metadata": {},
   "outputs": [],
   "source": [
    "#filtered_data = df_combined[columns_for_training + ['label', 'pt_bin']]\n",
    "filtered_data = df_combined[columns_for_training + ['label']].copy()\n",
    "feature_importance_by_bin = {}\n",
    "shap_values_by_bin = {}\n",
    "mean_shap_values = {}"
   ]
  },
  {
   "cell_type": "code",
   "execution_count": 25,
   "id": "a46c73a9",
   "metadata": {},
   "outputs": [],
   "source": [
    "X = filtered_data[columns_for_training]\n",
    "y = filtered_data['label']\n",
    "\n",
    "# Perform train-test split\n",
    "X_train, X_test, y_train, y_test = train_test_split(X, y, test_size=0.2, random_state=42)"
   ]
  },
  {
   "cell_type": "code",
   "execution_count": 26,
   "id": "59b86659",
   "metadata": {},
   "outputs": [
    {
     "name": "stderr",
     "output_type": "stream",
     "text": [
      "/cvmfs/cms.cern.ch/slc7_amd64_gcc12/external/py3-xgboost/1.7.5-788de805c13027be61faccd00ffc7e59/lib/python3.9/site-packages/xgboost/sklearn.py:1395: UserWarning: `use_label_encoder` is deprecated in 1.7.0.\n",
      "  warnings.warn(\"`use_label_encoder` is deprecated in 1.7.0.\")\n"
     ]
    },
    {
     "data": {
      "text/html": [
       "<style>#sk-container-id-1 {color: black;background-color: white;}#sk-container-id-1 pre{padding: 0;}#sk-container-id-1 div.sk-toggleable {background-color: white;}#sk-container-id-1 label.sk-toggleable__label {cursor: pointer;display: block;width: 100%;margin-bottom: 0;padding: 0.3em;box-sizing: border-box;text-align: center;}#sk-container-id-1 label.sk-toggleable__label-arrow:before {content: \"▸\";float: left;margin-right: 0.25em;color: #696969;}#sk-container-id-1 label.sk-toggleable__label-arrow:hover:before {color: black;}#sk-container-id-1 div.sk-estimator:hover label.sk-toggleable__label-arrow:before {color: black;}#sk-container-id-1 div.sk-toggleable__content {max-height: 0;max-width: 0;overflow: hidden;text-align: left;background-color: #f0f8ff;}#sk-container-id-1 div.sk-toggleable__content pre {margin: 0.2em;color: black;border-radius: 0.25em;background-color: #f0f8ff;}#sk-container-id-1 input.sk-toggleable__control:checked~div.sk-toggleable__content {max-height: 200px;max-width: 100%;overflow: auto;}#sk-container-id-1 input.sk-toggleable__control:checked~label.sk-toggleable__label-arrow:before {content: \"▾\";}#sk-container-id-1 div.sk-estimator input.sk-toggleable__control:checked~label.sk-toggleable__label {background-color: #d4ebff;}#sk-container-id-1 div.sk-label input.sk-toggleable__control:checked~label.sk-toggleable__label {background-color: #d4ebff;}#sk-container-id-1 input.sk-hidden--visually {border: 0;clip: rect(1px 1px 1px 1px);clip: rect(1px, 1px, 1px, 1px);height: 1px;margin: -1px;overflow: hidden;padding: 0;position: absolute;width: 1px;}#sk-container-id-1 div.sk-estimator {font-family: monospace;background-color: #f0f8ff;border: 1px dotted black;border-radius: 0.25em;box-sizing: border-box;margin-bottom: 0.5em;}#sk-container-id-1 div.sk-estimator:hover {background-color: #d4ebff;}#sk-container-id-1 div.sk-parallel-item::after {content: \"\";width: 100%;border-bottom: 1px solid gray;flex-grow: 1;}#sk-container-id-1 div.sk-label:hover label.sk-toggleable__label {background-color: #d4ebff;}#sk-container-id-1 div.sk-serial::before {content: \"\";position: absolute;border-left: 1px solid gray;box-sizing: border-box;top: 0;bottom: 0;left: 50%;z-index: 0;}#sk-container-id-1 div.sk-serial {display: flex;flex-direction: column;align-items: center;background-color: white;padding-right: 0.2em;padding-left: 0.2em;position: relative;}#sk-container-id-1 div.sk-item {position: relative;z-index: 1;}#sk-container-id-1 div.sk-parallel {display: flex;align-items: stretch;justify-content: center;background-color: white;position: relative;}#sk-container-id-1 div.sk-item::before, #sk-container-id-1 div.sk-parallel-item::before {content: \"\";position: absolute;border-left: 1px solid gray;box-sizing: border-box;top: 0;bottom: 0;left: 50%;z-index: -1;}#sk-container-id-1 div.sk-parallel-item {display: flex;flex-direction: column;z-index: 1;position: relative;background-color: white;}#sk-container-id-1 div.sk-parallel-item:first-child::after {align-self: flex-end;width: 50%;}#sk-container-id-1 div.sk-parallel-item:last-child::after {align-self: flex-start;width: 50%;}#sk-container-id-1 div.sk-parallel-item:only-child::after {width: 0;}#sk-container-id-1 div.sk-dashed-wrapped {border: 1px dashed gray;margin: 0 0.4em 0.5em 0.4em;box-sizing: border-box;padding-bottom: 0.4em;background-color: white;}#sk-container-id-1 div.sk-label label {font-family: monospace;font-weight: bold;display: inline-block;line-height: 1.2em;}#sk-container-id-1 div.sk-label-container {text-align: center;}#sk-container-id-1 div.sk-container {/* jupyter's `normalize.less` sets `[hidden] { display: none; }` but bootstrap.min.css set `[hidden] { display: none !important; }` so we also need the `!important` here to be able to override the default hidden behavior on the sphinx rendered scikit-learn.org. See: https://github.com/scikit-learn/scikit-learn/issues/21755 */display: inline-block !important;position: relative;}#sk-container-id-1 div.sk-text-repr-fallback {display: none;}</style><div id=\"sk-container-id-1\" class=\"sk-top-container\"><div class=\"sk-text-repr-fallback\"><pre>XGBClassifier(base_score=None, booster=None, callbacks=None,\n",
       "              colsample_bylevel=None, colsample_bynode=None,\n",
       "              colsample_bytree=0.8, early_stopping_rounds=None,\n",
       "              enable_categorical=False, eval_metric=&#x27;auc&#x27;, feature_types=None,\n",
       "              gamma=0.3, gpu_id=None, grow_policy=None, importance_type=None,\n",
       "              interaction_constraints=None, learning_rate=0.005, max_bin=None,\n",
       "              max_cat_threshold=None, max_cat_to_onehot=None,\n",
       "              max_delta_step=None, max_depth=4, max_leaves=None,\n",
       "              min_child_weight=None, missing=nan, monotone_constraints=None,\n",
       "              n_estimators=100, n_jobs=20, num_parallel_tree=None,\n",
       "              predictor=None, random_state=None, ...)</pre><b>In a Jupyter environment, please rerun this cell to show the HTML representation or trust the notebook. <br />On GitHub, the HTML representation is unable to render, please try loading this page with nbviewer.org.</b></div><div class=\"sk-container\" hidden><div class=\"sk-item\"><div class=\"sk-estimator sk-toggleable\"><input class=\"sk-toggleable__control sk-hidden--visually\" id=\"sk-estimator-id-1\" type=\"checkbox\" checked><label for=\"sk-estimator-id-1\" class=\"sk-toggleable__label sk-toggleable__label-arrow\">XGBClassifier</label><div class=\"sk-toggleable__content\"><pre>XGBClassifier(base_score=None, booster=None, callbacks=None,\n",
       "              colsample_bylevel=None, colsample_bynode=None,\n",
       "              colsample_bytree=0.8, early_stopping_rounds=None,\n",
       "              enable_categorical=False, eval_metric=&#x27;auc&#x27;, feature_types=None,\n",
       "              gamma=0.3, gpu_id=None, grow_policy=None, importance_type=None,\n",
       "              interaction_constraints=None, learning_rate=0.005, max_bin=None,\n",
       "              max_cat_threshold=None, max_cat_to_onehot=None,\n",
       "              max_delta_step=None, max_depth=4, max_leaves=None,\n",
       "              min_child_weight=None, missing=nan, monotone_constraints=None,\n",
       "              n_estimators=100, n_jobs=20, num_parallel_tree=None,\n",
       "              predictor=None, random_state=None, ...)</pre></div></div></div></div></div>"
      ],
      "text/plain": [
       "XGBClassifier(base_score=None, booster=None, callbacks=None,\n",
       "              colsample_bylevel=None, colsample_bynode=None,\n",
       "              colsample_bytree=0.8, early_stopping_rounds=None,\n",
       "              enable_categorical=False, eval_metric='auc', feature_types=None,\n",
       "              gamma=0.3, gpu_id=None, grow_policy=None, importance_type=None,\n",
       "              interaction_constraints=None, learning_rate=0.005, max_bin=None,\n",
       "              max_cat_threshold=None, max_cat_to_onehot=None,\n",
       "              max_delta_step=None, max_depth=4, max_leaves=None,\n",
       "              min_child_weight=None, missing=nan, monotone_constraints=None,\n",
       "              n_estimators=100, n_jobs=20, num_parallel_tree=None,\n",
       "              predictor=None, random_state=None, ...)"
      ]
     },
     "execution_count": 26,
     "metadata": {},
     "output_type": "execute_result"
    }
   ],
   "source": [
    "# Train final model with the best parameters\n",
    "best_params = {\n",
    "        \"objective\": \"binary:logistic\",\n",
    "        \"eval_metric\": \"auc\",\n",
    "        \"use_label_encoder\": False,\n",
    "        \"n_estimators\": 100,  # Fixed to avoid excessive memory usage\n",
    "        \"max_depth\": 4,\n",
    "        \"learning_rate\": 0.005,  \n",
    "        \"colsample_bytree\": 0.8,  # Fixed value\n",
    "        \"subsample\": 0.8,         # Fixed value\n",
    "        \"gamma\": 0.3,\n",
    "        \"reg_lambda\": 10,\n",
    "        \"reg_alpha\": 2\n",
    "}\n",
    "best_params.update({\"n_jobs\": 20})  # Optionally update with additional parameters\n",
    "best_model = xgb.XGBClassifier(**best_params)\n",
    "best_model.fit(X_train, y_train)"
   ]
  },
  {
   "cell_type": "code",
   "execution_count": 37,
   "id": "26715cbf",
   "metadata": {},
   "outputs": [
    {
     "data": {
      "image/png": "[encoded data removed]",
      "text/plain": [
       "<Figure size 800x600 with 1 Axes>"
      ]
     },
     "metadata": {},
     "output_type": "display_data"
    }
   ],
   "source": [
    "y_pred_probs = best_model.predict_proba(X_test)[:, 1]\n",
    "plot_roc_curve(y_test, y_pred_probs, 0.8)"
   ]
  },
  {
   "cell_type": "code",
   "execution_count": 36,
   "id": "67ee5763",
   "metadata": {},
   "outputs": [
    {
     "name": "stdout",
     "output_type": "stream",
     "text": [
      "Partial AUC between TPR = 0.8 and TPR = 1: 0.9844\n"
     ]
    }
   ],
   "source": [
    "y_pred_probs = best_model.predict_proba(X_test)[:, 1]  # Assuming binary classification\n",
    "partial_auc = calculate_partial_auc(y_test, y_pred_probs, tpr_min=0.8, tpr_max=1.0)\n",
    "print(f\"Partial AUC between TPR = 0.8 and TPR = 1: {partial_auc:.4f}\")"
   ]
  },
  {
   "cell_type": "code",
   "execution_count": null,
   "id": "e10ebb91",
   "metadata": {},
   "outputs": [],
   "source": []
  }
 ],
 "metadata": {
  "kernelspec": {
   "display_name": "Python 3",
   "language": "python",
   "name": "python3"
  },
  "language_info": {
   "codemirror_mode": {
    "name": "ipython",
    "version": 3
   },
   "file_extension": ".py",
   "mimetype": "text/x-python",
   "name": "python",
   "nbconvert_exporter": "python",
   "pygments_lexer": "ipython3",
   "version": "3.9.14"
  }
 },
 "nbformat": 4,
 "nbformat_minor": 5
}
