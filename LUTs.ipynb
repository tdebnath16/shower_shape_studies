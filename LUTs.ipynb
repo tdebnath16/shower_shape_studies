{
 "cells": [
  {
   "cell_type": "code",
   "execution_count": 1,
   "metadata": {},
   "outputs": [
    {
     "name": "stderr",
     "output_type": "stream",
     "text": [
      "/cvmfs/cms.cern.ch/el9_amd64_gcc12/external/py3-numpy/1.24.3-a3a65cbc18c6a98e06451d4329e3ea47/lib/python3.9/site-packages/numpy/core/getlimits.py:518: UserWarning: The value of the smallest subnormal for <class 'numpy.float64'> type is zero.\n",
      "  setattr(self, word, getattr(machar, word).flat[0])\n",
      "/cvmfs/cms.cern.ch/el9_amd64_gcc12/external/py3-numpy/1.24.3-a3a65cbc18c6a98e06451d4329e3ea47/lib/python3.9/site-packages/numpy/core/getlimits.py:89: UserWarning: The value of the smallest subnormal for <class 'numpy.float64'> type is zero.\n",
      "  return self._float_to_str(self.smallest_subnormal)\n",
      "/cvmfs/cms.cern.ch/el9_amd64_gcc12/external/py3-numpy/1.24.3-a3a65cbc18c6a98e06451d4329e3ea47/lib/python3.9/site-packages/numpy/core/getlimits.py:518: UserWarning: The value of the smallest subnormal for <class 'numpy.float32'> type is zero.\n",
      "  setattr(self, word, getattr(machar, word).flat[0])\n",
      "/cvmfs/cms.cern.ch/el9_amd64_gcc12/external/py3-numpy/1.24.3-a3a65cbc18c6a98e06451d4329e3ea47/lib/python3.9/site-packages/numpy/core/getlimits.py:89: UserWarning: The value of the smallest subnormal for <class 'numpy.float32'> type is zero.\n",
      "  return self._float_to_str(self.smallest_subnormal)\n",
      "Could not import conifer ydf converter\n",
      "runtime module could not be imported. Interacting with accelerators will not be possible.\n",
      "runtime module could not be imported. Interacting with FPUs will not be possible.\n"
     ]
    }
   ],
   "source": [
    "import numpy as np\n",
    "import pandas as pd\n",
    "import matplotlib.pyplot as plt\n",
    "import awkward as ak\n",
    "import seaborn as sns\n",
    "import analysis as ana\n",
    "import os, time, datetime, shutil, json, shap, pathlib\n",
    "import xgboost as xgb\n",
    "from sklearn.model_selection import train_test_split\n",
    "from sklearn.metrics import accuracy_score, confusion_matrix, roc_auc_score, roc_curve, auc\n",
    "from sklearn.preprocessing import label_binarize, MinMaxScaler, LabelEncoder\n",
    "from sklearn.utils.class_weight import compute_sample_weight\n",
    "from sklearn.datasets import make_hastie_10_2\n",
    "from pandas.api.types import is_float_dtype, is_integer_dtype\n",
    "from math import ceil, log2\n",
    "from scipy.special import softmax\n",
    "import conifer\n",
    "from typing import Optional, Dict, Mapping, Union\n",
    "from pathlib import Path"
   ]
  },
  {
   "cell_type": "code",
   "execution_count": 2,
   "metadata": {},
   "outputs": [
    {
     "name": "stdout",
     "output_type": "stream",
     "text": [
      "JSON_ROOT = /grid_mnt/data__data.polcms/cms/debnath/HGCAL/CMSSW_14_0_5/src/shower_shape_studies/json/include\n"
     ]
    }
   ],
   "source": [
    "os.environ[\"OMP_NUM_THREADS\"] = \"20\"\n",
    "os.environ[\"MKL_NUM_THREADS\"] = \"20\"\n",
    "AP_DIR = pathlib.Path(\"HLS_arbitrary_Precision_Types/include\").resolve()\n",
    "# sanity\n",
    "assert (AP_DIR / \"ap_fixed.h\").exists(), AP_DIR\n",
    "assert (AP_DIR / \"ap_int.h\").exists(), AP_DIR\n",
    "# Conifer reads this env and injects it into g++:\n",
    "os.environ[\"XILINX_AP_INCLUDE\"] = f\"{AP_DIR}\"\n",
    "# extra safety for compilers/tools that use standard include envs:\n",
    "os.environ[\"CPLUS_INCLUDE_PATH\"] = f\"{AP_DIR}:{os.environ.get('CPLUS_INCLUDE_PATH','')}\"\n",
    "os.environ[\"CPATH\"] = f\"{AP_DIR}:{os.environ.get('CPATH','')}\"\n",
    "json_root = pathlib.Path(\"json/include\").resolve()   # adjust to your clone\n",
    "assert (json_root / \"nlohmann\" / \"json.hpp\").exists(), json_root\n",
    "os.environ[\"JSON_ROOT\"] = str(json_root)\n",
    "print(\"JSON_ROOT =\", os.environ[\"JSON_ROOT\"])"
   ]
  },
  {
   "cell_type": "code",
   "execution_count": 3,
   "metadata": {},
   "outputs": [],
   "source": [
    "# Photon files\n",
    "photon_PU200_gen = \"/data/data.polcms/cms/debnath/HGCAL/CMSSW_14_0_5/src/shower_shape_studies/samples/photonPU200_newalgogen_filtered.h5\"\n",
    "photon_PU200_cl3d_Ref = \"/data/data.polcms/cms/debnath/HGCAL/CMSSW_14_0_5/src/shower_shape_studies/samples/photonPU200_newalgocl3d_Ref_filtered.h5\"\n",
    "photon_PU200_cl3d_p0113 = \"/data/data.polcms/cms/debnath/HGCAL/CMSSW_14_0_5/src/shower_shape_studies/samples/photonPU200_newalgocl3d_p0113_filtered.h5\"\n",
    "photon_PU200_cl3d_p016 = \"/data/data.polcms/cms/debnath/HGCAL/CMSSW_14_0_5/src/shower_shape_studies/samples/photonPU200_newalgocl3d_p016_filtered.h5\"\n",
    "photon_PU200_cl3d_p03 = \"/data/data.polcms/cms/debnath/HGCAL/CMSSW_14_0_5/src/shower_shape_studies/samples/photonPU200_newalgocl3d_p03_filtered.h5\"\n",
    "photon_PU200_cl3d_p045 = \"/data/data.polcms/cms/debnath/HGCAL/CMSSW_14_0_5/src/shower_shape_studies/samples/photonPU200_newalgocl3d_p045_filtered.h5\"\n",
    "\n",
    "# QCD files\n",
    "qcd_PU200_gen = \"/data/data.polcms/cms/debnath/HGCAL/CMSSW_14_0_5/src/shower_shape_studies/samples/QCDPU200_newalgogen_filtered.h5\"\n",
    "qcd_PU200_genpart = \"/data/data.polcms/cms/debnath/HGCAL/CMSSW_14_0_5/src/shower_shape_studies/samples/QCDPU200_newalgogenpart_filtered.h5\"\n",
    "qcd_PU200_cl3d_Ref = \"/data/data.polcms/cms/debnath/HGCAL/CMSSW_14_0_5/src/shower_shape_studies/samples/QCDPU200_newalgocl3d_Ref_filtered.h5\"\n",
    "qcd_PU200_cl3d_p0113 = \"/data/data.polcms/cms/debnath/HGCAL/CMSSW_14_0_5/src/shower_shape_studies/samples/QCDPU200_newalgocl3d_p0113_filtered.h5\"\n",
    "qcd_PU200_cl3d_p016 = \"/data/data.polcms/cms/debnath/HGCAL/CMSSW_14_0_5/src/shower_shape_studies/samples/QCDPU200_newalgocl3d_p016_filtered.h5\"\n",
    "qcd_PU200_cl3d_p03 = \"/data/data.polcms/cms/debnath/HGCAL/CMSSW_14_0_5/src/shower_shape_studies/samples/QCDPU200_newalgocl3d_p03_filtered.h5\"\n",
    "qcd_PU200_cl3d_p045 = \"/data/data.polcms/cms/debnath/HGCAL/CMSSW_14_0_5/src/shower_shape_studies/samples/QCDPU200_newalgocl3d_p045_filtered.h5\"\n",
    "\n",
    "# Pion files\n",
    "pion_PU200_gen = \"/data/data.polcms/cms/debnath/HGCAL/CMSSW_14_0_5/src/shower_shape_studies/samples/pionPU200_newalgogen_filtered.h5\"\n",
    "pion_PU200_cl3d_Ref = \"/data/data.polcms/cms/debnath/HGCAL/CMSSW_14_0_5/src/shower_shape_studies/samples/pionPU200_newalgocl3d_Ref_filtered.h5\"\n",
    "pion_PU200_cl3d_p0113 = \"/data/data.polcms/cms/debnath/HGCAL/CMSSW_14_0_5/src/shower_shape_studies/samples/pionPU200_newalgocl3d_p0113_filtered.h5\"\n",
    "pion_PU200_cl3d_p016 = \"/data/data.polcms/cms/debnath/HGCAL/CMSSW_14_0_5/src/shower_shape_studies/samples/pionPU200_newalgocl3d_p016_filtered.h5\"\n",
    "pion_PU200_cl3d_p03 = \"/data/data.polcms/cms/debnath/HGCAL/CMSSW_14_0_5/src/shower_shape_studies/samples/pionPU200_newalgocl3d_p03_filtered.h5\"\n",
    "pion_PU200_cl3d_p045 = \"/data/data.polcms/cms/debnath/HGCAL/CMSSW_14_0_5/src/shower_shape_studies/samples/pionPU200_newalgocl3d_p045_filtered.h5\"\n",
    "\n",
    "# PU200 files\n",
    "PU200_cl3d_Ref = \"/data/data.polcms/cms/debnath/HGCAL/CMSSW_14_0_5/src/shower_shape_studies/samples/PU200_newalgocl3d_Ref_filtered.h5\"\n",
    "PU200_cl3d_p0113 = \"/data/data.polcms/cms/debnath/HGCAL/CMSSW_14_0_5/src/shower_shape_studies/samples/PU200_newalgocl3d_p0113_filtered.h5\"\n",
    "PU200_cl3d_p016 = \"/data/data.polcms/cms/debnath/HGCAL/CMSSW_14_0_5/src/shower_shape_studies/samples/PU200_newalgocl3d_p016_filtered.h5\"\n",
    "PU200_cl3d_p03 = \"/data/data.polcms/cms/debnath/HGCAL/CMSSW_14_0_5/src/shower_shape_studies/samples/PU200_newalgocl3d_p03_filtered.h5\"\n",
    "PU200_cl3d_p045 = \"/data/data.polcms/cms/debnath/HGCAL/CMSSW_14_0_5/src/shower_shape_studies/samples/PU200_newalgocl3d_p045_filtered.h5\""
   ]
  },
  {
   "cell_type": "code",
   "execution_count": 4,
   "metadata": {},
   "outputs": [],
   "source": [
    "photon_df_Ref = ana.load_and_filter_hdf_path(photon_PU200_gen, photon_PU200_cl3d_Ref)\n",
    "#photon_df_p0113 = ana.load_and_filter_hdf_path(photon_PU200_gen, photon_PU200_cl3d_p0113)\n",
    "photon_df_p016 = ana.load_and_filter_hdf_path(photon_PU200_gen, photon_PU200_cl3d_p016)\n",
    "photon_df_p03 = ana.load_and_filter_hdf_path(photon_PU200_gen, photon_PU200_cl3d_p03)\n",
    "photon_df_p045 = ana.load_and_filter_hdf_path(photon_PU200_gen, photon_PU200_cl3d_p045)"
   ]
  },
  {
   "cell_type": "code",
   "execution_count": 5,
   "metadata": {},
   "outputs": [],
   "source": [
    "PU_df_Ref = pd.read_hdf(PU200_cl3d_Ref)\n",
    "#PU_df_p0113 = pd.read_hdf(PU200_cl3d_p0113)\n",
    "PU_df_p016 = pd.read_hdf(PU200_cl3d_p016)\n",
    "PU_df_p03 = pd.read_hdf(PU200_cl3d_p03)\n",
    "PU_df_p045 = pd.read_hdf(PU200_cl3d_p045)"
   ]
  },
  {
   "cell_type": "code",
   "execution_count": 6,
   "metadata": {},
   "outputs": [],
   "source": [
    "qcd_df_Ref = ana.load_and_filter_hdf_path(qcd_PU200_gen, qcd_PU200_cl3d_Ref)\n",
    "qcd_df_p0113 = ana.load_and_filter_hdf_path(qcd_PU200_gen, qcd_PU200_cl3d_p0113)\n",
    "qcd_df_p016 = ana.load_and_filter_hdf_path(qcd_PU200_gen, qcd_PU200_cl3d_p016)\n",
    "qcd_df_p03 = ana.load_and_filter_hdf_path(qcd_PU200_gen, qcd_PU200_cl3d_p03)\n",
    "qcd_df_p045 = ana.load_and_filter_hdf_path(qcd_PU200_gen, qcd_PU200_cl3d_p045)"
   ]
  },
  {
   "cell_type": "code",
   "execution_count": 7,
   "metadata": {},
   "outputs": [],
   "source": [
    "# Delta r filter\n",
    "photon_df_Ref_filtered = ana.filter_by_delta_r(photon_df_Ref, \"cl3d_Ref\", 0.1)\n",
    "photon_df_p016_filtered = ana.filter_by_delta_r(photon_df_p016, \"cl3d_p016Tri\", 0.1)\n",
    "photon_df_p03_filtered = ana.filter_by_delta_r(photon_df_p03, \"cl3d_p03Tri\", 0.1)\n",
    "photon_df_p045_filtered = ana.filter_by_delta_r(photon_df_p045, \"cl3d_p045Tri\", 0.1)"
   ]
  },
  {
   "cell_type": "code",
   "execution_count": 8,
   "metadata": {},
   "outputs": [],
   "source": [
    "# Delta r filter\n",
    "qcd_df_Ref_filtered = ana.filter_by_delta_r(qcd_df_Ref, \"cl3d_Ref\", 0.5)\n",
    "qcd_df_p016_filtered = ana.filter_by_delta_r(qcd_df_p016, \"cl3d_p016Tri\", 0.5)\n",
    "qcd_df_p03_filtered = ana.filter_by_delta_r(qcd_df_p03, \"cl3d_p03Tri\", 0.5)\n",
    "qcd_df_p045_filtered = ana.filter_by_delta_r(qcd_df_p045, \"cl3d_p045Tri\", 0.5)"
   ]
  },
  {
   "cell_type": "code",
   "execution_count": 9,
   "metadata": {},
   "outputs": [
    {
     "data": {
      "text/plain": [
       "\"# p045\\nphoton_df_p045_filtered['label'] = 0\\n#pion_df_p045_filtered['label'] = 3\\nqcd_df_p045_filtered['label'] = 2\\nPU_df_p045['label'] = 1\""
      ]
     },
     "execution_count": 9,
     "metadata": {},
     "output_type": "execute_result"
    }
   ],
   "source": [
    "'''# Ref\n",
    "photon_df_Ref_filtered['label'] = 0\n",
    "#pion_df_Ref_filtered['label'] = 3\n",
    "qcd_df_Ref_filtered['label'] = 2\n",
    "PU_df_Ref['label'] = 1'''\n",
    "\n",
    "# p016\n",
    "photon_df_p016_filtered['label'] = 0\n",
    "#pion_df_p016_filtered['label'] = 3\n",
    "qcd_df_p016_filtered['label'] = 2\n",
    "PU_df_p016['label'] = 1\n",
    "\n",
    "'''# p03\n",
    "photon_df_p03_filtered['label'] = 0\n",
    "#pion_df_p03_filtered['label'] = 3\n",
    "qcd_df_p03_filtered['label'] = 2\n",
    "PU_df_p03['label'] = 1'''\n",
    "\n",
    "'''# p045\n",
    "photon_df_p045_filtered['label'] = 0\n",
    "#pion_df_p045_filtered['label'] = 3\n",
    "qcd_df_p045_filtered['label'] = 2\n",
    "PU_df_p045['label'] = 1'''"
   ]
  },
  {
   "cell_type": "code",
   "execution_count": 10,
   "metadata": {},
   "outputs": [],
   "source": [
    "all_dfs = [qcd_df_p016_filtered, photon_df_p016_filtered, PU_df_p016]\n",
    "for i in range(len(all_dfs)):\n",
    "    all_dfs[i] = all_dfs[i][ana.columns_for_training('p016Tri') + ['label']]"
   ]
  },
  {
   "cell_type": "code",
   "execution_count": null,
   "metadata": {},
   "outputs": [],
   "source": []
  }
 ],
 "metadata": {
  "kernelspec": {
   "display_name": "el9_amd64_gcc12",
   "language": "python",
   "name": "python3"
  },
  "language_info": {
   "codemirror_mode": {
    "name": "ipython",
    "version": 3
   },
   "file_extension": ".py",
   "mimetype": "text/x-python",
   "name": "python",
   "nbconvert_exporter": "python",
   "pygments_lexer": "ipython3",
   "version": "3.9.14"
  }
 },
 "nbformat": 4,
 "nbformat_minor": 2
}
